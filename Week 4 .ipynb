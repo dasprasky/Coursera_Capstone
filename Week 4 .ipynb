{
 "cells": [
  {
   "cell_type": "markdown",
   "metadata": {},
   "source": [
    "<h1 align=center><font size = 5>Exploring and Clustering Neighborhoods in Hong Kong and New York City By Types of Restaurants Nearby</font></h1>"
   ]
  },
  {
   "cell_type": "markdown",
   "metadata": {},
   "source": [
    "# Introduction\n"
   ]
  },
  {
   "cell_type": "markdown",
   "metadata": {},
   "source": [
    "Hong Kong is a metropolitan city in the located in the Eastern Perl River Delta of the South China Sea and New York is a city located where the Hudson river meets the Atlantic Ocean. Both these cities are culturally and ethinicaly very diverse and are also considered to be financial capitals of their respective regions. Moreover, the cities are fairly comparable in terms of their population density, area, gender ratio, and infrastructure. But how about the types of restaurants in these cities? Because of being prominent global cities, both Hong Kong and New York have a large influx of people from around the world who come for study, business, and leisure. Since the type of food is an important aspect of everyone's daily lives, it is be worthwhile to explore places to eat in these cities and find out which neighbouhoods fall into the same clusters. In this way, we can see if the restaurant options for a person living in a certain neighbourhood in NYC would be similar to options in a neighbourhood in Hong Kong. \n",
    "\n",
    "This project will explore and compare the types of restaurants in neighbourhoods of two cities - Hong Kong and New York - and segment neighbourhoods into different clusters. "
   ]
  },
  {
   "cell_type": "markdown",
   "metadata": {},
   "source": [
    "# Data"
   ]
  },
  {
   "cell_type": "markdown",
   "metadata": {},
   "source": [
    "Neighbourhood Data: \n",
    "    \n",
    "    \n",
    "   - Hong Kong: \n",
    "   \n",
    "   Neighbourhood data for Hong Kong is taken from the Hong Kong Govrnment Open Data Site (https://data.gov.hk/en-data/dataset/hk-hkpo-hkpo_ds01-hkpo-post-office). Since the number and location of post-offices in Hong Kong are a good measure of the number and location of neighbourhoods, this data taken as the neighbourhood data for Hong Kong. The data is in a json file that has three relevant fields: \n",
    "    \n",
    "        1. 'nameEN': The english name of the post office\n",
    "        2. 'Latitude': The latitude coordinate of the post office\n",
    "        3. 'Longitude': The longitude coordinate of the post office\n",
    "  \n",
    "  \n",
    "  - New York:\n",
    "  \n",
    "  For New York City, the data is taken from NYU data portal (https://geo.nyu.edu/catalog/nyu_2451_34572). This dataset contains information about all the neighbourhoods in NYC. The three relevant fields of the dataset is within the 'features' filed: \n",
    "  \n",
    "         1. data['properties']['name']: Contains name of the neighbourhood\n",
    "         2. data['geometry']['coordinates']: Contains the latitude and longitude coordinates of the neighbourhood. \n",
    "         \n",
    "Foursquare API: Using the latitude and longitude coordinates of neighbourhoods from both the datasets, foursquare API will be used to get relevant restaurant location and category information nearby these neighbourhoods.\n",
    "\n",
    "\n",
    "For example, for a neighbourhood from the Hong Kong dataset that has coordinates (x,y), only restaurants will be searched using the Foursquare API (with food category keyword that is: '4d4b7105d754a06374d81259') that will return a list of restaurants within a certain distance from (x,y). The frequency of the category of restaurant will then be explored and venues with similar restaurant frequencies will be clustered together.  "
   ]
  },
  {
   "cell_type": "code",
   "execution_count": null,
   "metadata": {},
   "outputs": [],
   "source": []
  },
  {
   "cell_type": "code",
   "execution_count": null,
   "metadata": {},
   "outputs": [],
   "source": []
  }
 ],
 "metadata": {
  "kernelspec": {
   "display_name": "Python",
   "language": "python",
   "name": "conda-env-python-py"
  },
  "language_info": {
   "codemirror_mode": {
    "name": "ipython",
    "version": 3
   },
   "file_extension": ".py",
   "mimetype": "text/x-python",
   "name": "python",
   "nbconvert_exporter": "python",
   "pygments_lexer": "ipython3",
   "version": "3.6.10"
  }
 },
 "nbformat": 4,
 "nbformat_minor": 4
}
